{
 "cells": [
  {
   "cell_type": "markdown",
   "metadata": {},
   "source": [
    "A Secret Service: Being Strange Tales of a Nihilist by William Le Queux\n",
    "https://www.gutenberg.org/ebooks/67278\n",
    "Author\tLe Queux, William, 1864-1927\n",
    "Title\tA Secret Service: Being Strange Tales of a Nihilist\n",
    "Original Publication\tUnited Kingdom :Ward, Lock & Co., Limited,1896.\n",
    "Credits\tCarlos Colon, the University of California and the Online Distributed Proofreading Team at https://www.pgdp.net (This book was produced from images made available by the HathiTrust Digital Library.)\n",
    "Language\tEnglish\n",
    "Category\tText\n",
    "EBook-No.\t67278\n",
    "Release Date\tJan 29, 2022\n",
    "Copyright Status\tPublic domain in the USA.\n",
    "Downloads\t103 downloads in the last 30 days.\n",
    "UTF-8\n",
    "\n",
    "Question: How many \"is\" and \"are\" exist in book"
   ]
  },
  {
   "cell_type": "code",
   "execution_count": 3,
   "metadata": {},
   "outputs": [
    {
     "name": "stdout",
     "output_type": "stream",
     "text": [
      "is : 294\n",
      "are : 187\n"
     ]
    }
   ],
   "source": [
    "f = open(\"pg67278.txt\",\"r+\")\n",
    "ans = 0\n",
    "dic = {\"is\" : 0, \"are\" : 0}\n",
    "for l in f.readlines():\n",
    "    line = l.split()\n",
    "    for w in line:\n",
    "        if w == \"is\" or w == \"are\":\n",
    "            dic[w] += 1\n",
    "print(\"is : \" + str(dic[\"is\"]))\n",
    "print(\"are : \" + str(dic[\"are\"]))"
   ]
  },
  {
   "cell_type": "markdown",
   "metadata": {},
   "source": [
    "Life of Her Majesty Queen Victoria by Dame Millicent Garrett Fawcett\n",
    "https://www.gutenberg.org/ebooks/67277\n",
    "Author\tFawcett, Millicent Garrett, Dame, 1847-1929\n",
    "Title\tLife of Her Majesty Queen Victoria\n",
    "Original Publication\tUnited States :Roberts Brothers,1895.\n",
    "Credits\tCharlene Taylor and the Online Distributed Proofreading Team at https://www.pgdp.net (This file was produced from images generously made available by The Internet Archive/American Libraries.)\n",
    "Language\tEnglish\n",
    "Category\tText\n",
    "EBook-No.\t67277\n",
    "Release Date\tJan 29, 2022\n",
    "Copyright Status\tPublic domain in the USA.\n",
    "Downloads\t49 downloads in the last 30 days.\n",
    "UTF-8\n",
    "\n",
    "\n",
    "Question: How many \"the\" and \"of\" exist in book"
   ]
  },
  {
   "cell_type": "code",
   "execution_count": null,
   "metadata": {},
   "outputs": [],
   "source": []
  }
 ],
 "metadata": {
  "kernelspec": {
   "display_name": "Python 3 (ipykernel)",
   "language": "python",
   "name": "python3"
  },
  "language_info": {
   "codemirror_mode": {
    "name": "ipython",
    "version": 3
   },
   "file_extension": ".py",
   "mimetype": "text/x-python",
   "name": "python",
   "nbconvert_exporter": "python",
   "pygments_lexer": "ipython3",
   "version": "3.9.7"
  }
 },
 "nbformat": 4,
 "nbformat_minor": 4
}
